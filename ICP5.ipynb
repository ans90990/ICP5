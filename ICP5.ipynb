{
  "nbformat": 4,
  "nbformat_minor": 0,
  "metadata": {
    "colab": {
      "provenance": [],
      "authorship_tag": "ABX9TyOLg5avokze5HvQQI1g0nAo",
      "include_colab_link": true
    },
    "kernelspec": {
      "name": "python3",
      "display_name": "Python 3"
    },
    "language_info": {
      "name": "python"
    }
  },
  "cells": [
    {
      "cell_type": "markdown",
      "metadata": {
        "id": "view-in-github",
        "colab_type": "text"
      },
      "source": [
        "<a href=\"https://colab.research.google.com/github/ans90990/ICP5/blob/main/ICP5.ipynb\" target=\"_parent\"><img src=\"https://colab.research.google.com/assets/colab-badge.svg\" alt=\"Open In Colab\"/></a>"
      ]
    },
    {
      "cell_type": "code",
      "execution_count": null,
      "metadata": {
        "id": "XfJFY39c1ywt"
      },
      "outputs": [],
      "source": [
        "\n",
        "import pandas as pd\n",
        "from sklearn.model_selection import train_test_split\n",
        "from sklearn.svm import SVC\n",
        "from sklearn.metrics import classification_report\n",
        "from sklearn.neural_network import MLPClassifier\n",
        "import matplotlib.pyplot as plt\n",
        "import seaborn as sns\n",
        "\n",
        "path_to_cv = \"C:\\\\Users\\\\anori\\Downloads\\glass.csv\"\n",
        "df = pd.read_csv(path_to_cv)\n",
        "X = df.drop(\"Type\", axis = 1).values\n",
        "y = df[\"Type\"].values\n",
        "\n",
        "\n",
        "X_train, X_test, y_train, y_test = train_test_split(X, y, test_size=0.4, random_state=42)\n",
        "svm_model = SVC(kernel = 'linear')\n",
        "svm_model.fit(X_train, y_train)\n",
        "print(X_train.shape, X_test.shape)\n",
        "y_pred = svm_model.predict(X_test)\n",
        "\n",
        "accuracy = svm_model.score(X_test, y_test)\n",
        "print(\"Accuracy SVM:\", accuracy)\n",
        "print(\"Classification Report:\\n\", classification_report(y_test, y_pred, zero_division=1))\n",
        "\n",
        "mlp_model = MLPClassifier(hidden_layer_sizes=(8,8,8), activation='relu', solver='adam', max_iter=500)\n",
        "mlp_model.fit(X_train, y_train)\n",
        "\n",
        "y_pred_mlp = mlp_model.predict(X_test)\n",
        "accuracy_mlp = mlp_model.score(X_test, y_test)\n",
        "print(\"Accuracy MLP:\", accuracy_mlp)\n",
        "print(\"Classification Report:\\n\", classification_report(y_test, y_pred_mlp, zero_division=1))\n",
        "\n",
        "plt.scatter(df[\"Type\"], df[\"Ca\"])\n",
        "plt.show()\n",
        "correlation_matrix = df.corr()\n",
        "plt.figure(figsize=(10, 8))\n",
        "sns.heatmap(correlation_matrix, annot=True, cmap='Greens', fmt='.3f', cbar=True, square=True)\n",
        "plt.title('Correlation Matrix Heatmap')\n",
        "plt.show()"
      ]
    }
  ]
}